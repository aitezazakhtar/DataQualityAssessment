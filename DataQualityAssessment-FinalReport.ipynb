{
 "cells": [
  {
   "cell_type": "markdown",
   "metadata": {},
   "source": [
    "# Final Report"
   ]
  },
  {
   "cell_type": "markdown",
   "metadata": {},
   "source": [
    "Following are the issues in the given three dataset/Excel sheet :"
   ]
  },
  {
   "cell_type": "markdown",
   "metadata": {},
   "source": [
    "## 1. CustomerDemographic Sheet"
   ]
  },
  {
   "cell_type": "markdown",
   "metadata": {},
   "source": [
    "a) Following Column has **missing/blank** values:\n",
    "- last_name\n",
    "- DOB\n",
    "- job_title\n",
    "- job_industry_category \n",
    "- default\n",
    "- tenure \n",
    "\n",
    "All these Data fields must be completed to be able to drive a better insight from the data. (Completeness)"
   ]
  },
  {
   "cell_type": "markdown",
   "metadata": {},
   "source": [
    "b) In **gender** Column we can see three issues :\n",
    "\n",
    "- The values are not consistent, gender is either have to label Male/Female or M/F not both.\n",
    "- The inaccuracy/incorrect data in the datafield, gender column is labelled as Femal\n",
    "- Irrelevant value in the dataset which is value U in gender column."
   ]
  },
  {
   "cell_type": "markdown",
   "metadata": {},
   "source": [
    "c) In **DOB** column we can see that one of the year is labeled as 1843 it means they are 175 years old which is obviously not correct."
   ]
  },
  {
   "cell_type": "markdown",
   "metadata": {},
   "source": [
    "d) in **job_title** column we can see many job_title data has number in their job role which is not correct."
   ]
  },
  {
   "cell_type": "markdown",
   "metadata": {},
   "source": [
    "e) In **default** column we can see the non-validity of the data field because it has no meaningful data in it."
   ]
  },
  {
   "cell_type": "markdown",
   "metadata": {},
   "source": [
    "## 2. CustomerAddress Sheet"
   ]
  },
  {
   "cell_type": "markdown",
   "metadata": {},
   "source": [
    "a) In **State** Column we can see data inconsistency i.e New South Wales and NSW. Both full name and codename used in the dataset."
   ]
  },
  {
   "cell_type": "markdown",
   "metadata": {},
   "source": [
    "b) In **Property_valuation** column no meaningful information derived from this field means that no currency sign/value is mentioned i.e we can't guess that 10 is either 10 million dollars or euro or if 10 billion."
   ]
  },
  {
   "cell_type": "markdown",
   "metadata": {},
   "source": [
    "c) After joining CustomerDemographic and Customer Address table we identify two issues:\n",
    "- customer_id number **3, 10, 22, 23** records from **CustomerDemographic** table/sheet are not in **CustomerAddress** table/sheet.\n",
    "- customer_id number **4001, 4002, 4003** records from **CustomerAddress** table/sheet are not in** CustomerDemographic** table/sheet."
   ]
  },
  {
   "cell_type": "markdown",
   "metadata": {},
   "source": [
    "## 3. Transactions Sheet"
   ]
  },
  {
   "cell_type": "markdown",
   "metadata": {},
   "source": [
    "a) Following volumn has **missing/blank** values:\n",
    "- online_order               \n",
    "- brand                      \n",
    "- product_line               \n",
    "- product_class              \n",
    "- product_size               \n",
    "- standard_cost              \n",
    "- product_first_sold_date    \n",
    "\n",
    "All these Data fields must be completed to be able to drive a better insight from the data. (Completeness)"
   ]
  },
  {
   "cell_type": "markdown",
   "metadata": {},
   "source": [
    "b) After considering all table/sheets we see that customer_id number **5034** made a transaction but it's detail is not in our both (CustomerDemographic and CustomerAddress) sheets/table."
   ]
  },
  {
   "cell_type": "markdown",
   "metadata": {},
   "source": [
    "c) In **list_price** column no currency sign (dollar, euro etc) is mentioned."
   ]
  },
  {
   "cell_type": "markdown",
   "metadata": {},
   "source": [
    "d) In **standard_cost** Column we can see data inconsistency, some value has currecy sign in it while some has not. Furthermore some value has 2 decimal value while some has more."
   ]
  },
  {
   "cell_type": "markdown",
   "metadata": {},
   "source": [
    "e) In **Product_first_sold_date** Column no information is derived from this data. Not correct date column."
   ]
  }
 ],
 "metadata": {
  "kernelspec": {
   "display_name": "Python 3",
   "language": "python",
   "name": "python3"
  },
  "language_info": {
   "codemirror_mode": {
    "name": "ipython",
    "version": 3
   },
   "file_extension": ".py",
   "mimetype": "text/x-python",
   "name": "python",
   "nbconvert_exporter": "python",
   "pygments_lexer": "ipython3",
   "version": "3.7.4"
  }
 },
 "nbformat": 4,
 "nbformat_minor": 4
}
